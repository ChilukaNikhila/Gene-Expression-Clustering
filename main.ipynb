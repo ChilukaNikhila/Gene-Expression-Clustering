{
 "cells": [
  {
   "cell_type": "code",
   "execution_count": null,
   "id": "2a87f336",
   "metadata": {},
   "outputs": [],
   "source": [
    "#Import Statements\n",
    "import pandas as pd\n",
    "import numpy as np\n",
    "from sklearn.decomposition import FastICA\n",
    "from sklearn.cluster import KMeans\n",
    "from sklearn.metrics import silhouette_samples, silhouette_score\n",
    "\n",
    "#Fixing randomness of the code\n",
    "np.random.seed(0)\n",
    "#Reading the PREPROCESSED data\n",
    "Traindata=pd.read_csv('/content/sample_data/new_df_avg_final1.csv')\n",
    "test_data=pd.read_csv('testdata.csv')\n",
    "indexes = np.load(\"indexes.npy\")\n",
    "indexes_test_dataset = [test_data[i] for i in indexes]\n",
    "test_df = pd.DataFrame(indexes_test_dataset, index=None)\n",
    "test_df = test_df.T\n",
    "\n",
    "#Decomposition technique\n",
    "xpca = FastICA(n_components =150, random_state=0)\n",
    "xpca.fit(Traindata)\n",
    "xpca_scaled = xpca.transform(Traindata)\n",
    "xpca_test_scale=xpca.transform(test_df)\n",
    "\n",
    "#Running K-means Model\n",
    "kmeans = KMeans(n_clusters=16, random_state=0)\n",
    "p=kmeans.fit(xpca_scaled)\n",
    "#payload1=kmeans.predict(xpca_scaled).tolist()\n",
    "payload2=kmeans.predict(xpca_test_scale).tolist()\n",
    "\n",
    "#Internal Evaluation SCORE\n",
    "silhouette_avg = silhouette_score(data, payload2)\n",
    "\n",
    "print(silhouette_avg)"
   ]
  },
  {
   "cell_type": "code",
   "execution_count": null,
   "id": "47c895c6",
   "metadata": {},
   "outputs": [],
   "source": [
    "#calling api\n",
    "from requests import request\n",
    "import json\n",
    "payload= json.dumps(payload2)\n",
    "url = \"https://www.csci555competition.online/score\"\n",
    "headers = {\n",
    "    'Content-Type': 'application/json'\n",
    "}\n",
    "response = request(\"POST\", url, headers=headers, data=payload)\n",
    "print(response.text)"
   ]
  }
 ],
 "metadata": {
  "kernelspec": {
   "display_name": "Python 3 (ipykernel)",
   "language": "python",
   "name": "python3"
  },
  "language_info": {
   "codemirror_mode": {
    "name": "ipython",
    "version": 3
   },
   "file_extension": ".py",
   "mimetype": "text/x-python",
   "name": "python",
   "nbconvert_exporter": "python",
   "pygments_lexer": "ipython3",
   "version": "3.9.7"
  }
 },
 "nbformat": 4,
 "nbformat_minor": 5
}
